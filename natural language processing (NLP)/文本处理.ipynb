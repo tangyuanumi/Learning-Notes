{
 "cells": [
  {
   "cell_type": "markdown",
   "metadata": {},
   "source": [
    "## 文本数据处理"
   ]
  },
  {
   "cell_type": "code",
   "execution_count": 6,
   "metadata": {},
   "outputs": [],
   "source": [
    "data = [\n",
    "    \"I love the movie! It was amazing.\",\n",
    "    \"The movie was boring and too long.\",\n",
    "    \"What a fantastic experience watching this film.\",\n",
    "    \"Terrible movie. It was too predictable.\",\n",
    "    \"I enjoyed the movie, especially the visuals were stunning.\",\n",
    "    \"The plot was dull, did not enjoy it.\",\n",
    "    \"Absolutely loved it! Great actors and story.\",\n",
    "    \"Not my cup of tea. The movie lacked substance.\",\n",
    "    \"Amazing screenplay and direction. A masterpiece!\",\n",
    "    \"The movie was okay, not very engaging though.\"\n",
    "]\n",
    "\n",
    "# 我一把把把把住了."
   ]
  },
  {
   "cell_type": "markdown",
   "metadata": {},
   "source": [
    "### 1.文本预处理\n",
    "在进行任何分析之前，文本通常需要被清理和标准化。这可以包括转换为小写、删除停用词和标点符号等。"
   ]
  },
  {
   "cell_type": "code",
   "execution_count": 9,
   "metadata": {},
   "outputs": [
    {
     "name": "stdout",
     "output_type": "stream",
     "text": [
      "[['love', 'movie', 'amazing'], ['movie', 'boring', 'long'], ['fantastic', 'experience', 'watching', 'film'], ['terrible', 'movie', 'predictable'], ['enjoyed', 'movie', 'especially', 'visuals', 'stunning'], ['plot', 'dull', 'enjoy'], ['absolutely', 'loved', 'great', 'actors', 'story'], ['cup', 'tea', 'movie', 'lacked', 'substance'], ['amazing', 'screenplay', 'direction', 'masterpiece'], ['movie', 'okay', 'engaging', 'though']]\n"
     ]
    },
    {
     "name": "stderr",
     "output_type": "stream",
     "text": [
      "[nltk_data] Downloading package punkt to\n",
      "[nltk_data]     C:\\Users\\user\\AppData\\Roaming\\nltk_data...\n",
      "[nltk_data]   Package punkt is already up-to-date!\n",
      "[nltk_data] Downloading package stopwords to\n",
      "[nltk_data]     C:\\Users\\user\\AppData\\Roaming\\nltk_data...\n",
      "[nltk_data]   Package stopwords is already up-to-date!\n"
     ]
    }
   ],
   "source": [
    "import string\n",
    "\n",
    "from nltk.corpus import stopwords\n",
    "from nltk.tokenize import word_tokenize\n",
    "\n",
    "import nltk\n",
    "\n",
    "nltk.download('punkt')\n",
    "nltk.download('stopwords')\n",
    "\n",
    "stop_words = set(stopwords.words('english'))\n",
    "\n",
    "def preprocess_text(text):\n",
    "    # 转换为小写\n",
    "    text = text.lower()\n",
    "    # 移除标点\n",
    "    text = text.translate(str.maketrans('', '', string.punctuation))\n",
    "    # 分词\n",
    "    words = word_tokenize(text)\n",
    "    # 移除停用词和单字母词\n",
    "    words = [word for word in words if word not in stop_words and len(word) > 1]\n",
    "    return words\n",
    "\n",
    "processed_data = [preprocess_text(text) for text in data]\n",
    "print(processed_data)"
   ]
  },
  {
   "cell_type": "markdown",
   "metadata": {},
   "source": [
    "### 2.特征提取\n",
    "对于文本数据，我们常见的特征提取方法是词频（TF）和TF-IDF。在这里，我们使用词袋模型（Bag of Words）作为示例。\n",
    "\n",
    "#### 1. Bag of Words (BoW)\n",
    "词袋模型是文本数据的简单表示形式，其忽略了文本中词语的顺序和语法，只考虑词语的出现频次。在这个模型中，每个文档可以被表示为一个长向量，此向量的长度由语料库中的唯一词汇量决定。\n",
    "\n",
    "每个文档的向量中，每个元素的数值表示对应词汇在该文档中的出现次数。例如，考虑以下两个文本：\n",
    "\n",
    "    文本1: \"the cat is on the table\"\n",
    "\n",
    "    文本2: \"the dog is under the table\"\n",
    "\n",
    "如果词汇表是 [\"the\", \"cat\", \"dog\", \"is\", \"on\", \"under\", \"table\"]，则这两个文本的 BoW 表示为：\n",
    "\n",
    "    文本1: [1, 1, 0, 1, 1, 0, 1]\n",
    "    \n",
    "    文本2: [1, 0, 1, 1, 0, 1, 1]\n",
    "\n",
    "每个位置的数字代表词汇表中对应词汇在文本中的出现次数。\n",
    "\n",
    "#### 2. Term Frequency (TF)\n",
    "词频（TF）是衡量一个词在单一文档中出现的频率。这个数字是通过将某个词在文档中的出现次数除以文档中的总词数得到的。\n",
    "\n",
    "例如，如果文档是100个词，并且“cat”这个词出现了3次，那么“cat”的TF就是 0.03。\n",
    "\n",
    "这是一个标准化的词袋模型表示，可用于避免由于文档长度不同而引起的偏差。该值表示词条在文档中出现的频率。这是测量词在文档中出现得有多频繁。TF(t) 计算公式为：\n",
    "\n",
    "   $$\n",
    "   \\text{TF}(t) = \\left(\\frac{\\text{在某一类中词条 t 出现的次数}}{\\text{该类中所有的词条数目}}\\right)\n",
    "   $$\n",
    "\n",
    "#### 3. TF-IDF (Term Frequency-Inverse Document Frequency)\n",
    "\n",
    "TF-IDF 是一种用于信息检索与文本挖掘的常用加权技术。该统计方法用以评估字词对于一个文件集或一个语料库中的其中一份文件的重要性。其计算公式如下：\n",
    "\n",
    "### 计算公式\n",
    "\n",
    "1. **词频 (TF, Term Frequency)**，该值表示词条在文档中出现的频率。这是测量词在文档中出现得有多频繁。TF(t) 计算公式为：\n",
    "\n",
    "   $$\n",
    "   \\text{TF}(t) = \\left(\\frac{\\text{在某一类中词条 t 出现的次数}}{\\text{该类中所有的词条数目}}\\right)\n",
    "   $$\n",
    "\n",
    "2. **逆文档频率 (IDF, Inverse Document Frequency)**，这个数值是文档频率的逆。它有助于评估词语的通用性。即使在多个文档中频繁出现的词语可能就比较不重要。IDF(t) 是一个词条重要性增加的度量，计算公式为：\n",
    "\n",
    "   $$\n",
    "   \\text{IDF}(t) = \\log\\left(\\frac{\\text{总文档数}}{\\text{包含词条 t 的文档数目} + 1}\\right)\n",
    "   $$\n",
    "\n",
    "   这里加1是为了避免分母为零（在不存在任何文档中包含词条t的情况下）。\n",
    "\n",
    "3. **TF-IDF**，然后将这两个数值相乘，以得到一个词在一个文档中的总体重要性得分。计算公式为：\n",
    "\n",
    "   $$\n",
    "   \\text{TF-IDF}(t) = \\text{TF}(t) \\times \\text{IDF}(t)\n",
    "   $$\n",
    "\n",
    "### 总结\n",
    "\n",
    "TF-IDF 值越大，表示词条对于文档的重要性越高。这种方法常用于文本挖掘、用户建模、内容推荐等多种场景。它非常有效地反映了文档具有代表性的关键词或短语。"
   ]
  },
  {
   "cell_type": "code",
   "execution_count": null,
   "metadata": {},
   "outputs": [
    {
     "name": "stdout",
     "output_type": "stream",
     "text": [
      "['absolutely' 'actors' 'amazing' 'boring' 'cup' 'direction' 'dull'\n",
      " 'engaging' 'enjoy' 'enjoyed' 'especially' 'experience' 'fantastic' 'film'\n",
      " 'great' 'lacked' 'long' 'love' 'loved' 'masterpiece' 'movie' 'okay'\n",
      " 'plot' 'predictable' 'screenplay' 'story' 'stunning' 'substance' 'tea'\n",
      " 'terrible' 'though' 'visuals' 'watching']\n",
      "[[0 0 1 0 0 0 0 0 0 0 0 0 0 0 0 0 0 1 0 0 1 0 0 0 0 0 0 0 0 0 0 0 0]\n",
      " [0 0 0 1 0 0 0 0 0 0 0 0 0 0 0 0 1 0 0 0 1 0 0 0 0 0 0 0 0 0 0 0 0]\n",
      " [0 0 0 0 0 0 0 0 0 0 0 1 1 1 0 0 0 0 0 0 0 0 0 0 0 0 0 0 0 0 0 0 1]\n",
      " [0 0 0 0 0 0 0 0 0 0 0 0 0 0 0 0 0 0 0 0 1 0 0 1 0 0 0 0 0 1 0 0 0]\n",
      " [0 0 0 0 0 0 0 0 0 1 1 0 0 0 0 0 0 0 0 0 1 0 0 0 0 0 1 0 0 0 0 1 0]\n",
      " [0 0 0 0 0 0 1 0 1 0 0 0 0 0 0 0 0 0 0 0 0 0 1 0 0 0 0 0 0 0 0 0 0]\n",
      " [1 1 0 0 0 0 0 0 0 0 0 0 0 0 1 0 0 0 1 0 0 0 0 0 0 1 0 0 0 0 0 0 0]\n",
      " [0 0 0 0 1 0 0 0 0 0 0 0 0 0 0 1 0 0 0 0 1 0 0 0 0 0 0 1 1 0 0 0 0]\n",
      " [0 0 1 0 0 1 0 0 0 0 0 0 0 0 0 0 0 0 0 1 0 0 0 0 1 0 0 0 0 0 0 0 0]\n",
      " [0 0 0 0 0 0 0 1 0 0 0 0 0 0 0 0 0 0 0 0 1 1 0 0 0 0 0 0 0 0 1 0 0]]\n"
     ]
    }
   ],
   "source": [
    "from sklearn.feature_extraction.text import CountVectorizer\n",
    "\n",
    "# 重新将处理过的文本数据转换回字符串格式\n",
    "processed_texts = [\" \".join(text) for text in processed_data]\n",
    "\n",
    "vectorizer = CountVectorizer()\n",
    "X = vectorizer.fit_transform(processed_texts)\n",
    "\n",
    "print(vectorizer.get_feature_names_out())\n",
    "print(X.toarray())"
   ]
  },
  {
   "cell_type": "markdown",
   "metadata": {},
   "source": [
    "### 3.数据可视化\n",
    "我们可以可视化文本中单词的频率分布，这有助于理解数据集中最常见的话题。"
   ]
  },
  {
   "cell_type": "code",
   "execution_count": null,
   "metadata": {},
   "outputs": [
    {
     "data": {
      "image/png": "[encoded data removed]",
      "text/plain": [
       "<Figure size 640x480 with 1 Axes>"
      ]
     },
     "metadata": {},
     "output_type": "display_data"
    }
   ],
   "source": [
    "import matplotlib.pyplot as plt\n",
    "import numpy as np\n",
    "\n",
    "# 计算单词频率\n",
    "word_freq = np.sum(X.toarray(), axis=0)\n",
    "words = vectorizer.get_feature_names_out()\n",
    "\n",
    "# 对单词频率进行排序\n",
    "sorted_idx = np.argsort(word_freq)[::-1]\n",
    "sorted_words = [words[idx] for idx in sorted_idx]\n",
    "sorted_freq = word_freq[sorted_idx]\n",
    "\n",
    "fig, ax = plt.subplots()\n",
    "ax.bar(sorted_words[:10], sorted_freq[:10])  # 只显示前10个最频繁的单词\n",
    "ax.set_xlabel('Words')\n",
    "ax.set_ylabel('Frequency')\n",
    "ax.set_title('Top 10 words in dataset')\n",
    "plt.xticks(rotation=45)\n",
    "plt.show()"
   ]
  },
  {
   "cell_type": "markdown",
   "metadata": {},
   "source": [
    "### 4. Huggingface库"
   ]
  },
  {
   "cell_type": "markdown",
   "metadata": {},
   "source": [
    "#### 1. 问答"
   ]
  },
  {
   "cell_type": "code",
   "execution_count": null,
   "metadata": {},
   "outputs": [
    {
     "name": "stdout",
     "output_type": "stream",
     "text": [
      "WARNING:tensorflow:From d:\\Anaconda\\envs\\ray\\lib\\site-packages\\keras\\src\\losses.py:2976: The name tf.losses.sparse_softmax_cross_entropy is deprecated. Please use tf.compat.v1.losses.sparse_softmax_cross_entropy instead.\n",
      "\n"
     ]
    },
    {
     "name": "stderr",
     "output_type": "stream",
     "text": [
      "Special tokens have been added in the vocabulary, make sure the associated word embeddings are fine-tuned or trained.\n",
      "d:\\Anaconda\\envs\\ray\\lib\\site-packages\\transformers\\convert_slow_tokenizer.py:470: UserWarning: The sentencepiece tokenizer that you are converting to a fast tokenizer uses the byte fallback option which is not implemented in the fast tokenizers. In practice this means that the fast version of the tokenizer can produce unknown tokens whereas the sentencepiece version would have converted these unknown tokens into a sequence of byte tokens matching the original piece of text.\n",
      "  warnings.warn(\n",
      "Special tokens have been added in the vocabulary, make sure the associated word embeddings are fine-tuned or trained.\n",
      "Some weights of DebertaV2ForQuestionAnswering were not initialized from the model checkpoint at microsoft/deberta-v3-large and are newly initialized: ['qa_outputs.weight', 'qa_outputs.bias']\n",
      "You should probably TRAIN this model on a down-stream task to be able to use it for predictions and inference.\n"
     ]
    }
   ],
   "source": [
    "from transformers import AutoTokenizer, AutoModelForQuestionAnswering, pipeline\n",
    "\n",
    "tokenizer = AutoTokenizer.from_pretrained(\"microsoft/deberta-v3-large\")\n",
    "model = AutoModelForQuestionAnswering.from_pretrained(\"microsoft/deberta-v3-large\")\n",
    "\n",
    "# 创建问答pipeline\n",
    "qa_pipeline = pipeline(\"question-answering\", model=model, tokenizer=tokenizer)"
   ]
  },
  {
   "cell_type": "code",
   "execution_count": null,
   "metadata": {},
   "outputs": [
    {
     "name": "stdout",
     "output_type": "stream",
     "text": [
      "{'score': 0.0070789651945233345, 'start': 0, 'end': 34, 'answer': 'Hugging Face is a company based in'}\n"
     ]
    }
   ],
   "source": [
    "# 提问和背景\n",
    "context = \"Hugging Face is a company based in New York City. Its technology is based on a transformers library.\"\n",
    "question = \"Where is Hugging Face based?\"\n",
    "\n",
    "# 使用模型\n",
    "result = qa_pipeline(question=question, context=context)\n",
    "print(result)"
   ]
  },
  {
   "cell_type": "markdown",
   "metadata": {},
   "source": [
    "#### 2.文本回答"
   ]
  },
  {
   "cell_type": "code",
   "execution_count": null,
   "metadata": {},
   "outputs": [
    {
     "name": "stderr",
     "output_type": "stream",
     "text": [
      "Some weights of DebertaV2ForSequenceClassification were not initialized from the model checkpoint at microsoft/deberta-v3-large and are newly initialized: ['classifier.bias', 'pooler.dense.bias', 'classifier.weight', 'pooler.dense.weight']\n",
      "You should probably TRAIN this model on a down-stream task to be able to use it for predictions and inference.\n"
     ]
    },
    {
     "name": "stdout",
     "output_type": "stream",
     "text": [
      "[{'label': 'LABEL_0', 'score': 0.5025989413261414}]\n"
     ]
    }
   ],
   "source": [
    "from transformers import AutoTokenizer, AutoModelForSequenceClassification, pipeline\n",
    "\n",
    "# 加载模型和分词器\n",
    "model1 = AutoModelForSequenceClassification.from_pretrained(\"microsoft/deberta-v3-large\")\n",
    "\n",
    "# 创建pipeline\n",
    "nlp = pipeline(\"text-classification\", model=model1, tokenizer=tokenizer)\n",
    "\n",
    "# 使用模型\n",
    "text = \"I love using transformers! They make machine learning much easier.\"\n",
    "result = nlp(text)\n",
    "print(result)"
   ]
  },
  {
   "cell_type": "code",
   "execution_count": null,
   "metadata": {},
   "outputs": [],
   "source": []
  }
 ],
 "metadata": {
  "kernelspec": {
   "display_name": "ray",
   "language": "python",
   "name": "python3"
  },
  "language_info": {
   "codemirror_mode": {
    "name": "ipython",
    "version": 3
   },
   "file_extension": ".py",
   "mimetype": "text/x-python",
   "name": "python",
   "nbconvert_exporter": "python",
   "pygments_lexer": "ipython3",
   "version": "3.12.4"
  },
  "orig_nbformat": 4
 },
 "nbformat": 4,
 "nbformat_minor": 2
}
